{
 "cells": [
  {
   "cell_type": "markdown",
   "metadata": {},
   "source": [
    "### 有多种方式保存数据\n",
    "- while\n",
    "- for\n",
    "- 推导式"
   ]
  },
  {
   "cell_type": "code",
   "execution_count": 19,
   "metadata": {},
   "outputs": [
    {
     "data": {
      "text/plain": [
       "['20180704', '20180705', '20180706', '20180707', '20180708']"
      ]
     },
     "execution_count": 19,
     "metadata": {},
     "output_type": "execute_result"
    }
   ],
   "source": [
    "price_array = ['1','2','3','4','5']\n",
    "\n",
    "date_array = []\n",
    "date_base = 20180704\n",
    "price_cnt = len(price_array)\n",
    "\n",
    "while price_cnt > 0:\n",
    "    date_array.append(str(date_base))\n",
    "    date_base += 1\n",
    "    price_cnt -= 1\n",
    "\n",
    "date_array"
   ]
  },
  {
   "cell_type": "code",
   "execution_count": 20,
   "metadata": {},
   "outputs": [
    {
     "data": {
      "text/plain": [
       "['20180704', '20180705', '20180706', '20180707', '20180708']"
      ]
     },
     "execution_count": 20,
     "metadata": {},
     "output_type": "execute_result"
    }
   ],
   "source": [
    "date_array = []\n",
    "date_base = 20180704\n",
    "\n",
    "for _ in price_array:\n",
    "    date_array.append(str(date_base))\n",
    "    date_base += 1\n",
    "    \n",
    "date_array"
   ]
  },
  {
   "cell_type": "code",
   "execution_count": 95,
   "metadata": {},
   "outputs": [
    {
     "data": {
      "text/plain": [
       "['20180704', '20180705', '20180706', '20180707', '20180708']"
      ]
     },
     "execution_count": 95,
     "metadata": {},
     "output_type": "execute_result"
    }
   ],
   "source": [
    "date_base = 20180704\n",
    "date_array = [str(date_base + i) for i, _ in enumerate(price_array)]\n",
    "date_array"
   ]
  },
  {
   "cell_type": "code",
   "execution_count": 22,
   "metadata": {},
   "outputs": [
    {
     "data": {
      "text/plain": [
       "['20180704', '20180705', '20180706', '20180707', '20180708']"
      ]
     },
     "execution_count": 22,
     "metadata": {},
     "output_type": "execute_result"
    }
   ],
   "source": [
    "date_base = 20180704\n",
    "date_array = [str(date_base + ind) for ind, i in enumerate(price_array)]\n",
    "date_array"
   ]
  },
  {
   "cell_type": "markdown",
   "metadata": {},
   "source": [
    "### 保存多组数据\n",
    "- 使用tuple推导式\n",
    "- tuple内容修饰\n",
    "- dict字典推导式"
   ]
  },
  {
   "cell_type": "code",
   "execution_count": 23,
   "metadata": {
    "collapsed": true
   },
   "outputs": [],
   "source": [
    "price_array = ['9.20','2.31','7.57','4.33','5.82']"
   ]
  },
  {
   "cell_type": "code",
   "execution_count": 24,
   "metadata": {},
   "outputs": [
    {
     "name": "stdout",
     "output_type": "stream",
     "text": [
      "7月5日：2.31\n"
     ]
    },
    {
     "data": {
      "text/plain": [
       "[('20180704', '9.20'),\n",
       " ('20180705', '2.31'),\n",
       " ('20180706', '7.57'),\n",
       " ('20180707', '4.33'),\n",
       " ('20180708', '5.82')]"
      ]
     },
     "execution_count": 24,
     "metadata": {},
     "output_type": "execute_result"
    }
   ],
   "source": [
    "# zip同时迭代多个序列，每次分别从一个序列取一个元素，当某个序列达到结尾，则迭代结束\n",
    "tuple_list = [(date, price) for date, price in \n",
    "              zip(date_array, price_array)]\n",
    "print('7月5日：{}'.format(tuple_list[1][1]))\n",
    "tuple_list"
   ]
  },
  {
   "cell_type": "code",
   "execution_count": 25,
   "metadata": {},
   "outputs": [
    {
     "name": "stdout",
     "output_type": "stream",
     "text": [
      "7月5日：2.31\n"
     ]
    },
    {
     "data": {
      "text/plain": [
       "[stock_name(date='20180704', price='9.20'),\n",
       " stock_name(date='20180705', price='2.31'),\n",
       " stock_name(date='20180706', price='7.57'),\n",
       " stock_name(date='20180707', price='4.33'),\n",
       " stock_name(date='20180708', price='5.82')]"
      ]
     },
     "execution_count": 25,
     "metadata": {},
     "output_type": "execute_result"
    }
   ],
   "source": [
    "from collections import namedtuple\n",
    "\n",
    "# 使用namedtuple改名\n",
    "# namedtuple第一个参数是行名，括号内是列名\n",
    "stock = namedtuple('stock_name', ('date', 'price'))\n",
    "stock_list = [stock(date, price) for date, price in \n",
    "             zip(date_array, price_array)]\n",
    "print('7月5日：{}'.format(tuple_list[1][1]))\n",
    "stock_list"
   ]
  },
  {
   "cell_type": "markdown",
   "metadata": {},
   "source": [
    "### 字典使用\n",
    "- 使用keys， values使用方便\n",
    "- OrderedDict 按顺序的dict"
   ]
  },
  {
   "cell_type": "code",
   "execution_count": 26,
   "metadata": {},
   "outputs": [
    {
     "data": {
      "text/plain": [
       "{'20180704': '9.20',\n",
       " '20180705': '2.31',\n",
       " '20180706': '7.57',\n",
       " '20180707': '4.33',\n",
       " '20180708': '5.82'}"
      ]
     },
     "execution_count": 26,
     "metadata": {},
     "output_type": "execute_result"
    }
   ],
   "source": [
    "#字典dict(key, value)\n",
    "stock_dict = {date: price for date, price in \n",
    "             zip(date_array, price_array)}\n",
    "\n",
    "stock_dict"
   ]
  },
  {
   "cell_type": "code",
   "execution_count": 27,
   "metadata": {},
   "outputs": [
    {
     "name": "stdout",
     "output_type": "stream",
     "text": [
      "7月5日：2.31\n"
     ]
    }
   ],
   "source": [
    "print('7月5日：{}'.format(stock_dict['20180705']))"
   ]
  },
  {
   "cell_type": "code",
   "execution_count": 28,
   "metadata": {},
   "outputs": [
    {
     "data": {
      "text/plain": [
       "(dict_keys(['20180704', '20180705', '20180706', '20180707', '20180708']),\n",
       " dict_values(['9.20', '2.31', '7.57', '4.33', '5.82']))"
      ]
     },
     "execution_count": 28,
     "metadata": {},
     "output_type": "execute_result"
    }
   ],
   "source": [
    "stock_dict.keys(), stock_dict.values()"
   ]
  },
  {
   "cell_type": "code",
   "execution_count": 29,
   "metadata": {},
   "outputs": [
    {
     "data": {
      "text/plain": [
       "odict_values(['9.20', '2.31', '7.57', '4.33', '5.82'])"
      ]
     },
     "execution_count": 29,
     "metadata": {},
     "output_type": "execute_result"
    }
   ],
   "source": [
    "from collections import OrderedDict\n",
    "\n",
    "stock_dict = OrderedDict((date, price) for date, price in \n",
    "                         zip(date_array, price_array))\n",
    "stock_dict.values()"
   ]
  },
  {
   "cell_type": "markdown",
   "metadata": {},
   "source": [
    "# 寻找最小价格"
   ]
  },
  {
   "cell_type": "code",
   "execution_count": 30,
   "metadata": {},
   "outputs": [
    {
     "data": {
      "text/plain": [
       "('2.31', '20180705')"
      ]
     },
     "execution_count": 30,
     "metadata": {},
     "output_type": "execute_result"
    }
   ],
   "source": [
    "min(zip(stock_dict.values(), stock_dict.keys()))"
   ]
  },
  {
   "cell_type": "markdown",
   "metadata": {},
   "source": [
    "# 计算第三大价格"
   ]
  },
  {
   "cell_type": "code",
   "execution_count": 31,
   "metadata": {},
   "outputs": [
    {
     "data": {
      "text/plain": [
       "('9.20', '20180704')"
      ]
     },
     "execution_count": 31,
     "metadata": {},
     "output_type": "execute_result"
    }
   ],
   "source": [
    "# 排序后 -1和4 分别是顺序和倒序中值最大的\n",
    "def find_3th_max(dict_array):\n",
    "    stock_price_sorted = sorted(\n",
    "        zip(stock_dict.values(), stock_dict.keys()))\n",
    "    return stock_price_sorted[4]\n",
    "\n",
    "find_3th_max(stock_dict)"
   ]
  },
  {
   "cell_type": "code",
   "execution_count": 32,
   "metadata": {},
   "outputs": [
    {
     "name": "stdout",
     "output_type": "stream",
     "text": [
      "('9.20', '20180704')\n"
     ]
    }
   ],
   "source": [
    "if callable(find_3th_max):\n",
    "    print(find_3th_max(stock_dict))"
   ]
  },
  {
   "cell_type": "code",
   "execution_count": 33,
   "metadata": {},
   "outputs": [
    {
     "data": {
      "text/plain": [
       "('9.20', '20180704')"
      ]
     },
     "execution_count": 33,
     "metadata": {},
     "output_type": "execute_result"
    }
   ],
   "source": [
    "# 也可以用lambda方式写\n",
    "find_3th_max_lambda = lambda dict_array: \\\n",
    "sorted(zip(stock_dict.values(), stock_dict.keys()))[4]\n",
    "find_3th_max_lambda(stock_dict)"
   ]
  },
  {
   "cell_type": "markdown",
   "metadata": {},
   "source": [
    "# 寻找最高和最低价格"
   ]
  },
  {
   "cell_type": "code",
   "execution_count": 34,
   "metadata": {},
   "outputs": [
    {
     "data": {
      "text/plain": [
       "(('9.20', '20180704'), ('2.31', '20180705'))"
      ]
     },
     "execution_count": 34,
     "metadata": {},
     "output_type": "execute_result"
    }
   ],
   "source": [
    "def find_max_min(stock_dict):\n",
    "    stock_price_sorted = sorted(\n",
    "    zip(stock_dict.values(), stock_dict.keys()))\n",
    "    return stock_price_sorted[4], stock_price_sorted[0]\n",
    "\n",
    "find_max_min(stock_dict)"
   ]
  },
  {
   "cell_type": "code",
   "execution_count": 35,
   "metadata": {},
   "outputs": [
    {
     "data": {
      "text/plain": [
       "odict_values(['9.20', '2.31', '7.57', '4.33', '5.82'])"
      ]
     },
     "execution_count": 35,
     "metadata": {},
     "output_type": "execute_result"
    }
   ],
   "source": [
    "stock_dict.values()"
   ]
  },
  {
   "cell_type": "markdown",
   "metadata": {},
   "source": [
    "# 从收盘价格推导每天涨幅\n",
    "\n",
    "- 先把字符串转换成浮点数\n",
    "- 价格放入列表\n",
    "- zip进行两两配对存入新的列表\n",
    "    - [:-1] 从列表第一个数开始到最后，不包括最后\n",
    "    - [1:] 从列表序号1开始到最后，包括最后\n",
    "    - 发散：合并相邻3个数存入新列表\n",
    "- 使用reduce函数讲相邻的价格求出涨跌幅度\n",
    "- 将计算出的构建数据结构"
   ]
  },
  {
   "cell_type": "code",
   "execution_count": 59,
   "metadata": {},
   "outputs": [
    {
     "data": {
      "text/plain": [
       "[(9.2, 2.31), (2.31, 7.57), (7.57, 4.33), (4.33, 5.82)]"
      ]
     },
     "execution_count": 59,
     "metadata": {},
     "output_type": "execute_result"
    }
   ],
   "source": [
    "price_float_array = [float(price_str) for price_str in \n",
    "                     stock_dict.values()]\n",
    "pp_array_2 = [(price1, price2) for price1, price2 in \n",
    "           zip(price_float_array[:-1], \n",
    "               price_float_array[1:])]\n",
    "pp_array_2"
   ]
  },
  {
   "cell_type": "code",
   "execution_count": 48,
   "metadata": {
    "scrolled": true
   },
   "outputs": [
    {
     "data": {
      "text/plain": [
       "[(1, 2, 3),\n",
       " (2, 3, 4),\n",
       " (3, 4, 5),\n",
       " (4, 5, 6),\n",
       " (5, 6, 7),\n",
       " (6, 7, 8),\n",
       " (7, 8, 9),\n",
       " (8, 9, 10)]"
      ]
     },
     "execution_count": 48,
     "metadata": {},
     "output_type": "execute_result"
    }
   ],
   "source": [
    "# 合并相邻3个\n",
    "x = [1,2,3,4,5,6,7,8,9,10]\n",
    "pp_array_3 = [(p1, p2, p3) for p1, p2, p3 in zip(x[:-1], x[1:], x[2:])]\n",
    "pp_array_3"
   ]
  },
  {
   "cell_type": "code",
   "execution_count": 122,
   "metadata": {},
   "outputs": [
    {
     "name": "stdout",
     "output_type": "stream",
     "text": [
      "[0.749, -2.277, 0.428, -0.344]\n"
     ]
    }
   ],
   "source": [
    "from functools import reduce\n",
    "# 计算涨幅-最简化方式\n",
    "# round将float保留几位小数，一下保留3位\n",
    "change_array = map(\n",
    "    lambda pp: reduce(lambda a,b: round((a-b)/a, 3), pp), pp_array)\n",
    "# python3中需要list函数打印\n",
    "print(list(change_array))"
   ]
  },
  {
   "cell_type": "code",
   "execution_count": 81,
   "metadata": {},
   "outputs": [
    {
     "name": "stdout",
     "output_type": "stream",
     "text": [
      "[-0.749, 2.277, -0.428, 0.344]\n"
     ]
    }
   ],
   "source": [
    "# 方式1 - 计算涨幅\n",
    "def calc(a, b):\n",
    "    return (b-a)/a\n",
    "\n",
    "change = []\n",
    "\n",
    "for i in pp_array_2:\n",
    "    rst = calc(i[0], i[1])\n",
    "    change.append(round(rst, 3))\n",
    "\n",
    "print(change)"
   ]
  },
  {
   "cell_type": "code",
   "execution_count": 102,
   "metadata": {},
   "outputs": [
    {
     "data": {
      "text/plain": [
       "[0, -0.749, 2.277, -0.428, 0.344]"
      ]
     },
     "execution_count": 102,
     "metadata": {},
     "output_type": "execute_result"
    }
   ],
   "source": [
    "# 方式2 - 计算涨幅\n",
    "change_array = []\n",
    "for i in pp_array_2:\n",
    "    change_array.append(reduce(lambda a,b: round((b-a)/a, 3), i))\n",
    "\n",
    "change_array.insert(0, 0)\n",
    "change_array"
   ]
  },
  {
   "cell_type": "code",
   "execution_count": 105,
   "metadata": {},
   "outputs": [
    {
     "data": {
      "text/plain": [
       "OrderedDict([('20180704', stock(date='20180704', price='9.20', change=0)),\n",
       "             ('20180705', stock(date='20180705', price='2.31', change=-0.749)),\n",
       "             ('20180706', stock(date='20180706', price='7.57', change=2.277)),\n",
       "             ('20180707', stock(date='20180707', price='4.33', change=-0.428)),\n",
       "             ('20180708', stock(date='20180708', price='5.82', change=0.344))])"
      ]
     },
     "execution_count": 105,
     "metadata": {},
     "output_type": "execute_result"
    }
   ],
   "source": [
    "# 把涨幅更新到字典\n",
    "stock_namedtuple = namedtuple('stock', ('date', 'price', 'change'))\n",
    "stock_dict = OrderedDict((date, stock_namedtuple(date, price, change))\n",
    "                         for date, price, change in \n",
    "                        zip(date_array, price_array, change_array))\n",
    "stock_dict"
   ]
  },
  {
   "cell_type": "code",
   "execution_count": 121,
   "metadata": {},
   "outputs": [
    {
     "name": "stdout",
     "output_type": "stream",
     "text": [
      "[stock(date='20180706', price='7.57', change=2.277), stock(date='20180708', price='5.82', change=0.344)]\n"
     ]
    }
   ],
   "source": [
    "# filter筛选上升记录\n",
    "up_days = filter(lambda day: day.change > 0, stock_dict.values())\n",
    "# python3中需要list函数打印\n",
    "print(list(up_days))"
   ]
  },
  {
   "cell_type": "markdown",
   "metadata": {},
   "source": [
    "# 三目表达式\n",
    "- 替代传统if和else逻辑写法\n",
    "- 一个函数完成上涨和下跌数值的输出"
   ]
  },
  {
   "cell_type": "code",
   "execution_count": 137,
   "metadata": {},
   "outputs": [],
   "source": [
    "# want_up默认True，want_calc_sum默认False\n",
    "def filter_stock(stock_array_dict, want_up=True, want_calc_sum=False):\n",
    "    if not isinstance(stock_array_dict, OrderedDict):\n",
    "        # 如果类型不对报错\n",
    "        raise typeError('stock_array_dict must be ordered.')\n",
    "    #三目表达式的写法\n",
    "    # if语句成立执行if前面的代码，否则执行后面的代码\n",
    "    filter_func = (lambda day: day.change > 0) if want_up else (lambda day: day.change < 0)\n",
    "    # 使用filter_func作为筛选函数\n",
    "    want_days = filter(filter_func, stock_array_dict.values())\n",
    "    # 不计算总和，显示上涨/下跌天数\n",
    "    if not want_calc_sum:\n",
    "        return want_days\n",
    "    #需要计算涨跌幅\n",
    "    change_sum = 0.0\n",
    "    for day in want_days:\n",
    "        change_sum += day.change\n",
    "    return change_sum"
   ]
  },
  {
   "cell_type": "code",
   "execution_count": 136,
   "metadata": {},
   "outputs": [
    {
     "name": "stdout",
     "output_type": "stream",
     "text": [
      "所有上涨的交易日：[stock(date='20180706', price='7.57', change=2.277), stock(date='20180708', price='5.82', change=0.344)]\n",
      "所有下跌的交易日：[stock(date='20180705', price='2.31', change=-0.749), stock(date='20180707', price='4.33', change=-0.428)]\n",
      "所有上涨交易日的涨幅和：2.621\n",
      "所有下跌交易日的跌幅和：-1.177\n"
     ]
    }
   ],
   "source": [
    "# filter_stock应用\n",
    "\n",
    "# 全部使用默认参数\n",
    "print('所有上涨的交易日：{}'.format(list(filter_stock(stock_dict))))\n",
    "# want_up=False\n",
    "print('所有下跌的交易日：{}'.format(list(filter_stock(stock_dict, want_up=False))))\n",
    "# 计算所有上涨的总和\n",
    "print('所有上涨交易日的涨幅和：{}'.format(filter_stock(stock_dict, want_calc_sum=True)))\n",
    "# 计算所有下跌的总和\n",
    "print('所有下跌交易日的跌幅和：{}'.format(filter_stock(stock_dict, want_up=False, want_calc_sum=True)))"
   ]
  },
  {
   "cell_type": "code",
   "execution_count": 138,
   "metadata": {
    "collapsed": true
   },
   "outputs": [],
   "source": [
    "# 使用偏函数functools.partial()简化filter_stock()参数\n",
    "from functools import partial\n",
    "# 筛选上涨交易日\n",
    "filter_stock_up_days = partial(filter_stock, want_up=True, want_calc_sum=False)\n",
    "# 筛选下跌交易日\n",
    "filter_stock_down_days = partial(filter_stock, want_up=False, want_calc_sum=False)\n",
    "# 计算所有上涨交易日总和\n",
    "filter_stock_up_sums = partial(filter_stock, want_up=True, want_calc_sum=True)\n",
    "# 计算所有下跌交易日总和\n",
    "filter_stock_down_sums = partial(filter_stock, want_up=False, want_calc_sum=True)"
   ]
  },
  {
   "cell_type": "code",
   "execution_count": 143,
   "metadata": {},
   "outputs": [
    {
     "name": "stdout",
     "output_type": "stream",
     "text": [
      "所有上涨的交易日：[stock(date='20180706', price='7.57', change=2.277), stock(date='20180708', price='5.82', change=0.344)]\n",
      "所有下跌的交易日：[stock(date='20180705', price='2.31', change=-0.749), stock(date='20180707', price='4.33', change=-0.428)]\n",
      "所有上涨交易日的涨幅和：2.621\n",
      "所有下跌交易日的跌幅和：-1.177\n"
     ]
    }
   ],
   "source": [
    "# 全部使用默认参数\n",
    "print('所有上涨的交易日：{}'.format(list(filter_stock_up_days(stock_dict))))\n",
    "# want_up=False\n",
    "print('所有下跌的交易日：{}'.format(list(filter_stock_down_days(stock_dict))))\n",
    "# 计算所有上涨的总和\n",
    "print('所有上涨交易日的涨幅和：{}'.format(filter_stock_up_sums(stock_dict)))\n",
    "# 计算所有下跌的总和\n",
    "print('所有下跌交易日的跌幅和：{}'.format(filter_stock_down_sums(stock_dict)))"
   ]
  },
  {
   "cell_type": "code",
   "execution_count": null,
   "metadata": {
    "collapsed": true
   },
   "outputs": [],
   "source": []
  }
 ],
 "metadata": {
  "kernelspec": {
   "display_name": "Python 3",
   "language": "python",
   "name": "python3"
  },
  "language_info": {
   "codemirror_mode": {
    "name": "ipython",
    "version": 3
   },
   "file_extension": ".py",
   "mimetype": "text/x-python",
   "name": "python",
   "nbconvert_exporter": "python",
   "pygments_lexer": "ipython3",
   "version": "3.6.3"
  }
 },
 "nbformat": 4,
 "nbformat_minor": 2
}
